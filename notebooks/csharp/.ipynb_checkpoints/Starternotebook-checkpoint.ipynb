{
 "cells": [
  {
   "cell_type": "code",
   "execution_count": null,
   "metadata": {},
   "outputs": [],
   "source": [
    "Console.WriteLine(\"Jupyter + .NET\");"
   ]
  },
  {
   "cell_type": "code",
   "execution_count": null,
   "metadata": {},
   "outputs": [],
   "source": [
    "class Person\n",
    "{\n",
    "    public string Title {get; set;}\n",
    "    public string Name {get; set;}\n",
    "    \n",
    "}\n",
    "display (new Person {Title = \"Captain\", Name = \"Marvel\"});"
   ]
  },
  {
   "cell_type": "code",
   "execution_count": null,
   "metadata": {},
   "outputs": [],
   "source": [
    "var groupofheroes = new []\n",
    "{\n",
    "    new Person {Title = \"Captain\", Name = \"Marvel\"},\n",
    "    new Person {Title = \"General\", Name = \"Okoye\"},\n",
    "    new Person {Title = \"Team Lead\", Name = \"Romanova\"},\n",
    "    new Person {Title = \"Lead Engineer\", Name = \"Washington\"}\n",
    "};\n",
    "display(groupofheroes);"
   ]
  },
  {
   "cell_type": "code",
   "execution_count": null,
   "metadata": {},
   "outputs": [],
   "source": []
  },
  {
   "cell_type": "markdown",
   "metadata": {},
   "source": []
  },
  {
   "cell_type": "code",
   "execution_count": null,
   "metadata": {},
   "outputs": [],
   "source": []
  }
 ],
 "metadata": {
  "kernelspec": {
   "display_name": ".NET (C#)",
   "language": "C#",
   "name": ".net-csharp"
  },
  "language_info": {
   "file_extension": ".cs",
   "mimetype": "text/x-csharp",
   "name": "C#",
   "pygments_lexer": "csharp",
   "version": "8.0"
  }
 },
 "nbformat": 4,
 "nbformat_minor": 4
}
