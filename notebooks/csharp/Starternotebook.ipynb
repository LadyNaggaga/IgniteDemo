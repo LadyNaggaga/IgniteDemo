{
 "cells": [
  {
   "cell_type": "code",
   "execution_count": 1,
   "metadata": {},
   "outputs": [
    {
     "name": "stdout",
     "output_type": "stream",
     "text": [
      "Jupyter + .NET\n"
     ]
    }
   ],
   "source": [
    "Console.WriteLine(\"Jupyter + .NET\");"
   ]
  },
  {
   "cell_type": "code",
   "execution_count": 2,
   "metadata": {},
   "outputs": [
    {
     "data": {
      "text/html": [
       "<table><thead><tr><th>Title</th><th>Name</th></tr></thead><tbody><tr><td>Captain</td><td>Marvel</td></tr></tbody></table>"
      ]
     },
     "metadata": {},
     "output_type": "display_data"
    }
   ],
   "source": [
    "class Person\n",
    "{\n",
    "    public string Title {get; set;}\n",
    "    public string Name {get; set;}\n",
    "    \n",
    "}\n",
    "display (new Person {Title = \"Captain\", Name = \"Marvel\"});"
   ]
  },
  {
   "cell_type": "code",
   "execution_count": 3,
   "metadata": {},
   "outputs": [
    {
     "data": {
      "text/html": [
       "<table><thead><tr><th><i>index</i></th><th>Title</th><th>Name</th></tr></thead><tbody><tr><td>0</td><td>Captain</td><td>Marvel</td></tr><tr><td>1</td><td>General</td><td>Okoye</td></tr><tr><td>2</td><td>Team Lead</td><td>Romanova</td></tr><tr><td>3</td><td>Lead Engineer</td><td>Washington</td></tr></tbody></table>"
      ]
     },
     "metadata": {},
     "output_type": "display_data"
    }
   ],
   "source": [
    "var groupofheroes = new []\n",
    "{\n",
    "    new Person {Title = \"Captain\", Name = \"Marvel\"},\n",
    "    new Person {Title = \"General\", Name = \"Okoye\"},\n",
    "    new Person {Title = \"Team Lead\", Name = \"Romanova\"},\n",
    "    new Person {Title = \"Lead Engineer\", Name = \"Washington\"}\n",
    "};\n",
    "display(groupofheroes);"
   ]
  },
  {
   "cell_type": "code",
   "execution_count": null,
   "metadata": {},
   "outputs": [],
   "source": []
  },
  {
   "cell_type": "markdown",
   "metadata": {},
   "source": []
  },
  {
   "cell_type": "code",
   "execution_count": null,
   "metadata": {},
   "outputs": [],
   "source": []
  }
 ],
 "metadata": {
  "kernelspec": {
   "display_name": ".NET (C#)",
   "language": "C#",
   "name": ".net-csharp"
  },
  "language_info": {
   "file_extension": ".cs",
   "mimetype": "text/x-csharp",
   "name": "C#",
   "pygments_lexer": "csharp",
   "version": "8.0"
  }
 },
 "nbformat": 4,
 "nbformat_minor": 4
}
