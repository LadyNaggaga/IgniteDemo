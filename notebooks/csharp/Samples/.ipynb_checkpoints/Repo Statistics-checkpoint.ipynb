{
 "cells": [
  {
   "cell_type": "markdown",
   "metadata": {},
   "source": [
    "# dotnet/try Github Dashboard <img src =\"https://upload.wikimedia.org/wikipedia/commons/thumb/3/38/Jupyter_logo.svg/207px-Jupyter_logo.svg.png\" width=\"60px\" alt=\"dotnet bot in space\" align =\"right\">"
   ]
  },
  {
   "cell_type": "markdown",
   "metadata": {},
   "source": [
    "### Add NuGet package references "
   ]
  },
  {
   "cell_type": "code",
   "execution_count": 1,
   "metadata": {},
   "outputs": [
    {
     "data": {
      "text/html": [
       "Installing package Octokit, version 0.32.0...............done!"
      ]
     },
     "metadata": {},
     "output_type": "display_data"
    },
    {
     "data": {
      "text/html": [
       "Successfully added reference to package Octokit, version 0.32.0"
      ]
     },
     "metadata": {},
     "output_type": "display_data"
    },
    {
     "data": {
      "text/html": [
       "Installing package NodaTime, version 2.4.6....done!"
      ]
     },
     "metadata": {},
     "output_type": "display_data"
    },
    {
     "data": {
      "text/html": [
       "Successfully added reference to package NodaTime, version 2.4.6"
      ]
     },
     "metadata": {},
     "output_type": "display_data"
    }
   ],
   "source": [
    "#r \"nuget:Octokit, 0.32.0\"\n",
    "#r \"nuget:NodaTime, 2.4.6\"\n",
    "using Octokit;\n",
    "using NodaTime;\n",
    "using NodaTime.Extensions;\n",
    "using XPlot.Plotly;"
   ]
  },
  {
   "cell_type": "markdown",
   "metadata": {},
   "source": [
    "### Setup\n",
    "Create a GitHub public API client "
   ]
  },
  {
   "cell_type": "code",
   "execution_count": 2,
   "metadata": {},
   "outputs": [],
   "source": [
    "var options = new ApiOptions();\n",
    "var gitHubClient = new GitHubClient(new ProductHeaderValue(\"notebook\"));"
   ]
  },
  {
   "cell_type": "markdown",
   "metadata": {},
   "source": [
    "Create checkpoints for the:  current day(today), the start of the current month and, the start of the current year. "
   ]
  },
  {
   "cell_type": "code",
   "execution_count": 3,
   "metadata": {},
   "outputs": [],
   "source": [
    "var today = SystemClock.Instance.InUtc().GetCurrentDate();\n",
    "var startOfTheMonth = today.With(DateAdjusters.StartOfMonth);\n",
    "var startOfTheYear = new LocalDate(today.Year, 1, 1).AtMidnight();"
   ]
  },
  {
   "cell_type": "markdown",
   "metadata": {},
   "source": [
    "Query GitHub for : \n",
    "- Issues created this month\n",
    "- Issues closed this month\n",
    "- Every issue this year"
   ]
  },
  {
   "cell_type": "code",
   "execution_count": 4,
   "metadata": {},
   "outputs": [],
   "source": [
    "var createdIssuesRequest = new RepositoryIssueRequest\n",
    "            {\n",
    "                Since = startOfTheMonth.ToDateTimeUnspecified(),\n",
    "                Filter = IssueFilter.Created\n",
    "            };\n",
    "var closedIssuesRequest = new RepositoryIssueRequest\n",
    "            {\n",
    "                Since = startOfTheMonth.ToDateTimeUnspecified(),\n",
    "                State = ItemStateFilter.Closed\n",
    "            };\n",
    "var thisYearIssuesRequest = new RepositoryIssueRequest\n",
    "            {\n",
    "                State = ItemStateFilter.All,\n",
    "                Since = startOfTheYear.ToDateTimeUnspecified()\n",
    "            };"
   ]
  },
  {
   "cell_type": "markdown",
   "metadata": {},
   "source": [
    "Start pulling data via the GitHub API"
   ]
  },
  {
   "cell_type": "code",
   "execution_count": 5,
   "metadata": {},
   "outputs": [],
   "source": [
    "var createdThisMonth = await gitHubClient.Issue.GetAllForRepository(\"dotnet\", \"try\", createdIssuesRequest);\n",
    "var closedThisMonth = await gitHubClient.Issue.GetAllForRepository(\"dotnet\", \"try\", closedIssuesRequest);\n",
    "var thisYearIssues = await gitHubClient.Issue.GetAllForRepository(\"dotnet\", \"try\", thisYearIssuesRequest);"
   ]
  },
  {
   "cell_type": "markdown",
   "metadata": {},
   "source": [
    "Group open and closed issues by month "
   ]
  },
  {
   "cell_type": "code",
   "execution_count": 6,
   "metadata": {},
   "outputs": [],
   "source": [
    "var openSoFar = createdThisMonth.OrderBy(i => i.CreatedAt).Where(i => i.State.StringValue == \"open\").ToArray();\n",
    "var openByMonthOfCreation = openSoFar.GroupBy(i => new { i.CreatedAt.Year, i.CreatedAt.Month})\n",
    "                .Select(g => new {Date = g.Key, Count = g.Count()}).ToArray();\n",
    "\n",
    "var closedSoFar = thisYearIssues.OrderBy(i => i.CreatedAt).Where(i => i.State.StringValue == \"closed\").ToArray();\n",
    "var closedByMonthOfClosure = closedSoFar.GroupBy(i => new { i.ClosedAt.Value.Year, i.ClosedAt.Value.Month})\n",
    "                .Select(g => new {Date = g.Key, Count = g.Count()}).ToArray();\n",
    "var totalOpenIssues = thisYearIssues.Count();\n",
    "var openCountByMonth = closedSoFar.GroupBy(i => new { i.CreatedAt.Year, i.CreatedAt.Month})\n",
    "                .Select(g => {\n",
    "                    var count = g.Count();                    \n",
    "                    var dataPoint = new  {Date = g.Key, Count = totalOpenIssues};\n",
    "                    totalOpenIssues -= count;\n",
    "                    return dataPoint;\n",
    "                }).ToArray();"
   ]
  },
  {
   "cell_type": "markdown",
   "metadata": {},
   "source": [
    "Show issues opened this month grouped by day "
   ]
  },
  {
   "cell_type": "code",
   "execution_count": 11,
   "metadata": {},
   "outputs": [
    {
     "data": {
      "text/html": [
       "<div id=\"4cb1eb1b-bd62-48d5-92b4-db8fb6fbf73b\" style=\"width: 900px; height: 500px;\"></div><script type=\"text/javascript\">\r\n",
       "\r\n",
       "var renderPlotly = function() {\r\n",
       "    var xplotRequire = requirejs.config({context:'xplot-2.0.0',paths:{plotly:'https://cdn.plot.ly/plotly-1.49.2.min'}});\r\n",
       "    xplotRequire(['plotly'], function(Plotly) {\r\n",
       "\n",
       "            var data = [{\"type\":\"scatter\",\"x\":[\"2019-10-16T00:00:00\",\"2019-10-13T00:00:00\",\"2019-10-12T00:00:00\",\"2019-10-11T00:00:00\",\"2019-10-09T00:00:00\",\"2019-10-06T00:00:00\",\"2019-10-01T00:00:00\",\"2019-08-14T00:00:00\"],\"y\":[1,1,2,2,1,1,1,1]}];\n",
       "            var layout = {\"title\":\"Issue Open By Day\"};\n",
       "            Plotly.newPlot('4cb1eb1b-bd62-48d5-92b4-db8fb6fbf73b', data, layout);\n",
       "        });\r\n",
       "};\r\n",
       "if ((typeof(requirejs) !==  typeof(Function)) || (typeof(requirejs.config) !== typeof(Function))) { \r\n",
       "    var script = document.createElement(\"script\"); \r\n",
       "    script.setAttribute(\"src\", \"https://cdnjs.cloudflare.com/ajax/libs/require.js/2.3.6/require.min.js\"); \r\n",
       "    script.onload = function(){\r\n",
       "        renderPlotly();\r\n",
       "    };\r\n",
       "    document.getElementsByTagName(\"head\")[0].appendChild(script); \r\n",
       "}\r\n",
       "else {\r\n",
       "    renderPlotly();\r\n",
       "}\r\n",
       "</script>"
      ]
     },
     "metadata": {},
     "output_type": "display_data"
    }
   ],
   "source": [
    "var createdThisMonthByDay = createdThisMonth.GroupBy(i => new DateTime(i.CreatedAt.Year,i.CreatedAt.Month, i.CreatedAt.Day)); \n",
    "var lineChart = Chart.Line(createdThisMonthByDay.Select(g => new Tuple<DateTime,int>(g.Key, g.Count())));\n",
    "lineChart.WithTitle(\"Issue Open By Day\");\n",
    "display(lineChart);"
   ]
  },
  {
   "cell_type": "code",
   "execution_count": 8,
   "metadata": {},
   "outputs": [
    {
     "data": {
      "text/html": [
       "<table><thead><tr><th><i>index</i></th><th>CreatedAt</th><th>Title</th><th>State</th><th>Number</th></tr></thead><tbody><tr><td>0</td><td>2019-10-16 22:52:01Z</td><td>Sample Code on page 2 of tutorial should be swapped with page 3 of tutorial</td><td>open</td><td>536</td></tr><tr><td>1</td><td>2019-10-13 10:55:55Z</td><td>static async Task Main(string[] args)</td><td>open</td><td>527</td></tr><tr><td>2</td><td>2019-10-12 13:26:24Z</td><td>Unable to use extension methods in .NET Jupyter Kernel</td><td>open</td><td>525</td></tr><tr><td>3</td><td>2019-10-12 12:17:41Z</td><td>New C# 8 Features Unusable on Try.Dot.NET</td><td>open</td><td>524</td></tr><tr><td>4</td><td>2019-10-11 22:38:06Z</td><td>We need to have display/preview function to show unstructured data like images, videos, sound</td><td>open</td><td>523</td></tr><tr><td>5</td><td>2019-10-11 22:17:03Z</td><td>notebook kernel stop the process when it calls &quot;console.writeline&quot; method.</td><td>open</td><td>522</td></tr><tr><td>6</td><td>2019-10-09 22:01:03Z</td><td>terminal formatter and mime type support</td><td>open</td><td>516</td></tr><tr><td>7</td><td>2019-10-06 12:48:15Z</td><td>Focus mode does not work in Safari on iOS 13 or macOS Catalina</td><td>open</td><td>500</td></tr><tr><td>8</td><td>2019-10-01 19:23:33Z</td><td>#r directive parsing probably needs to be language specific</td><td>open</td><td>491</td></tr><tr><td>9</td><td>2019-08-14 21:03:49Z</td><td>Fix warnings</td><td>open</td><td>375</td></tr></tbody></table>"
      ]
     },
     "metadata": {},
     "output_type": "display_data"
    }
   ],
   "source": [
    "display(openSoFar.Select(i => new {i.CreatedAt, i.Title, State = i.State.StringValue,  i.Number}).OrderByDescending(d => d.CreatedAt));"
   ]
  },
  {
   "cell_type": "code",
   "execution_count": 12,
   "metadata": {},
   "outputs": [
    {
     "data": {
      "text/html": [
       "<div id=\"869f7e77-b033-46ae-9815-f557bbb5104c\" style=\"width: 900px; height: 500px;\"></div><script type=\"text/javascript\">\r\n",
       "\r\n",
       "var renderPlotly = function() {\r\n",
       "    var xplotRequire = requirejs.config({context:'xplot-2.0.0',paths:{plotly:'https://cdn.plot.ly/plotly-1.49.2.min'}});\r\n",
       "    xplotRequire(['plotly'], function(Plotly) {\r\n",
       "\n",
       "            var data = [{\"type\":\"scatter\",\"x\":[\"2019-08-01T00:00:00\",\"2019-10-01T00:00:00\"],\"y\":[1,9]}];\n",
       "            var layout = {\"title\":\"Issue still open grouped by age (month they were created)\"};\n",
       "            Plotly.newPlot('869f7e77-b033-46ae-9815-f557bbb5104c', data, layout);\n",
       "        });\r\n",
       "};\r\n",
       "if ((typeof(requirejs) !==  typeof(Function)) || (typeof(requirejs.config) !== typeof(Function))) { \r\n",
       "    var script = document.createElement(\"script\"); \r\n",
       "    script.setAttribute(\"src\", \"https://cdnjs.cloudflare.com/ajax/libs/require.js/2.3.6/require.min.js\"); \r\n",
       "    script.onload = function(){\r\n",
       "        renderPlotly();\r\n",
       "    };\r\n",
       "    document.getElementsByTagName(\"head\")[0].appendChild(script); \r\n",
       "}\r\n",
       "else {\r\n",
       "    renderPlotly();\r\n",
       "}\r\n",
       "</script>"
      ]
     },
     "metadata": {},
     "output_type": "display_data"
    }
   ],
   "source": [
    "var lineChart = Chart.Line(openByMonthOfCreation.Select(g => new Tuple<DateTime, int>(new DateTime(g.Date.Year, g.Date.Month, 1),g.Count)));\n",
    "lineChart.WithTitle(\"Issue still open grouped by age (month they were created)\");\n",
    "display(lineChart);"
   ]
  },
  {
   "cell_type": "code",
   "execution_count": 13,
   "metadata": {},
   "outputs": [
    {
     "data": {
      "text/html": [
       "<div id=\"b6a5994e-ae5e-43d2-bde8-9200b3099699\" style=\"width: 900px; height: 500px;\"></div><script type=\"text/javascript\">\r\n",
       "\r\n",
       "var renderPlotly = function() {\r\n",
       "    var xplotRequire = requirejs.config({context:'xplot-2.0.0',paths:{plotly:'https://cdn.plot.ly/plotly-1.49.2.min'}});\r\n",
       "    xplotRequire(['plotly'], function(Plotly) {\r\n",
       "\n",
       "            var data = [{\"type\":\"scattergl\",\"x\":[\"2019-10-01T00:00:00\"],\"y\":[6],\"name\":\"Idle\"},{\"type\":\"scattergl\",\"x\":[\"2019-08-01T00:00:00\",\"2019-10-01T00:00:00\"],\"y\":[1,3],\"name\":\"Active\"}];\n",
       "            var layout = {\"title\":\"Idle and eactive open issue report\"};\n",
       "            Plotly.newPlot('b6a5994e-ae5e-43d2-bde8-9200b3099699', data, layout);\n",
       "        });\r\n",
       "};\r\n",
       "if ((typeof(requirejs) !==  typeof(Function)) || (typeof(requirejs.config) !== typeof(Function))) { \r\n",
       "    var script = document.createElement(\"script\"); \r\n",
       "    script.setAttribute(\"src\", \"https://cdnjs.cloudflare.com/ajax/libs/require.js/2.3.6/require.min.js\"); \r\n",
       "    script.onload = function(){\r\n",
       "        renderPlotly();\r\n",
       "    };\r\n",
       "    document.getElementsByTagName(\"head\")[0].appendChild(script); \r\n",
       "}\r\n",
       "else {\r\n",
       "    renderPlotly();\r\n",
       "}\r\n",
       "</script>"
      ]
     },
     "metadata": {},
     "output_type": "display_data"
    }
   ],
   "source": [
    "var idleByMonth = openSoFar.Where( i => i.Comments == 0).GroupBy(i => new DateTime( i.CreatedAt.Year, i.CreatedAt.Month, 1))\n",
    "    .Select(g => new {Date = g.Key, Count = g.Count()}).ToArray();\n",
    "var activeByMonth = openSoFar.Where( i => i.Comments > 0).GroupBy(i => new DateTime( i.CreatedAt.Year, i.CreatedAt.Month, 1))\n",
    "                .Select(g => new {Date = g.Key, Count = g.Count()}).ToArray();\n",
    "\n",
    "var idleSeries = new Graph.Scattergl\n",
    "{\n",
    "    name = \"Idle\",\n",
    "    y = idleByMonth.Select(g => g.Count ).ToArray(),\n",
    "    x = idleByMonth.Select(g => g.Date ).ToArray()\n",
    "};\n",
    "\n",
    "var activeSeries = new Graph.Scattergl\n",
    "{\n",
    "    name = \"Active\",\n",
    "    y = activeByMonth.Select(g => g.Count ).ToArray(),\n",
    "    x = activeByMonth.Select(g => g.Date ).ToArray()\n",
    "};\n",
    "\n",
    "\n",
    "var chart = Chart.Plot(new[] {idleSeries, activeSeries});\n",
    "chart.WithTitle(\"Idle and eactive open issue report\");\n",
    "display(chart);"
   ]
  },
  {
   "cell_type": "code",
   "execution_count": 15,
   "metadata": {},
   "outputs": [
    {
     "data": {
      "text/html": [
       "<div id=\"bb1078a6-9e20-4cfa-b05b-028bc677bf73\" style=\"width: 900px; height: 500px;\"></div><script type=\"text/javascript\">\r\n",
       "\r\n",
       "var renderPlotly = function() {\r\n",
       "    var xplotRequire = requirejs.config({context:'xplot-2.0.0',paths:{plotly:'https://cdn.plot.ly/plotly-1.49.2.min'}});\r\n",
       "    xplotRequire(['plotly'], function(Plotly) {\r\n",
       "\n",
       "            var data = [{\"type\":\"scattergl\",\"x\":[\"2019-08-01T00:00:00\",\"2019-10-01T00:00:00\"],\"y\":[1,9],\"name\":\"Created\"},{\"type\":\"scattergl\",\"x\":[\"2018-10-01T00:00:00\",\"2018-11-01T00:00:00\",\"2018-12-01T00:00:00\",\"2019-01-01T00:00:00\",\"2019-02-01T00:00:00\",\"2019-03-01T00:00:00\",\"2019-04-01T00:00:00\",\"2019-05-01T00:00:00\",\"2019-06-01T00:00:00\",\"2019-07-01T00:00:00\",\"2019-08-01T00:00:00\",\"2019-09-01T00:00:00\",\"2019-10-01T00:00:00\"],\"y\":[2,9,1,3,4,1,3,47,40,42,61,60,49],\"name\":\"Closed\"},{\"type\":\"scattergl\",\"x\":[\"2017-10-01T00:00:00\",\"2018-04-01T00:00:00\",\"2018-05-01T00:00:00\",\"2018-06-01T00:00:00\",\"2018-07-01T00:00:00\",\"2018-10-01T00:00:00\",\"2018-11-01T00:00:00\",\"2019-01-01T00:00:00\",\"2019-02-01T00:00:00\",\"2019-03-01T00:00:00\",\"2019-04-01T00:00:00\",\"2019-05-01T00:00:00\",\"2019-06-01T00:00:00\",\"2019-07-01T00:00:00\",\"2019-08-01T00:00:00\",\"2019-09-01T00:00:00\",\"2019-10-01T00:00:00\"],\"y\":[420,419,416,415,414,401,400,399,397,392,387,383,340,298,255,199,139],\"name\":\"Open\"}];\n",
       "            var layout = {\"title\":\"Issue report for the current year\"};\n",
       "            Plotly.newPlot('bb1078a6-9e20-4cfa-b05b-028bc677bf73', data, layout);\n",
       "        });\r\n",
       "};\r\n",
       "if ((typeof(requirejs) !==  typeof(Function)) || (typeof(requirejs.config) !== typeof(Function))) { \r\n",
       "    var script = document.createElement(\"script\"); \r\n",
       "    script.setAttribute(\"src\", \"https://cdnjs.cloudflare.com/ajax/libs/require.js/2.3.6/require.min.js\"); \r\n",
       "    script.onload = function(){\r\n",
       "        renderPlotly();\r\n",
       "    };\r\n",
       "    document.getElementsByTagName(\"head\")[0].appendChild(script); \r\n",
       "}\r\n",
       "else {\r\n",
       "    renderPlotly();\r\n",
       "}\r\n",
       "</script>"
      ]
     },
     "metadata": {},
     "output_type": "display_data"
    }
   ],
   "source": [
    "var openDataPoints = openByMonthOfCreation\n",
    "    .Select(g => new { y = g.Count, x = new DateTime(g.Date.Year, g.Date.Month, 1)} )\n",
    "    .OrderBy(d => d.x).ToArray();\n",
    "\n",
    "\n",
    "var closedDataPoints = closedByMonthOfClosure\n",
    "    .Select(g => new { y = g.Count, x = new DateTime(g.Date.Year, g.Date.Month, 1)} )\n",
    "    .OrderBy(d => d.x).ToArray();\n",
    "\n",
    "var openCountByMonthDataPoints = openCountByMonth\n",
    "    .Select(g => new { y = g.Count, x = new DateTime(g.Date.Year, g.Date.Month, 1)} )\n",
    "    .OrderBy(d => d.x).ToArray();\n",
    "\n",
    "var openSeries = new Graph.Scattergl\n",
    "{\n",
    "    name = \"Created\",\n",
    "    y = openDataPoints.Select(g => g.y ).ToArray(),\n",
    "    x = openDataPoints.Select(g => g.x ).ToArray()\n",
    "};\n",
    "\n",
    "var closeSeries = new Graph.Scattergl\n",
    "{\n",
    "    name = \"Closed\",\n",
    "    y = closedDataPoints.Select(g => g.y ).ToArray(),\n",
    "    x = closedDataPoints.Select(g => g.x ).ToArray()\n",
    "};\n",
    "\n",
    "var stillOpenSeries = new Graph.Scattergl\n",
    "{\n",
    "    name = \"Open\",\n",
    "    y = openCountByMonthDataPoints.Select(g => g.y ).ToArray(),\n",
    "    x = openCountByMonthDataPoints.Select(g => g.x ).ToArray()\n",
    "};\n",
    "\n",
    "\n",
    "var chart = Chart.Plot(new[] {openSeries, closeSeries, stillOpenSeries});\n",
    "chart.WithTitle(\"Issue report for the current year\");\n",
    "display(chart);"
   ]
  },
  {
   "cell_type": "markdown",
   "metadata": {},
   "source": [
    "### How many times has dotnet/try been forked ?"
   ]
  },
  {
   "cell_type": "code",
   "execution_count": 18,
   "metadata": {},
   "outputs": [],
   "source": [
    "var forks = await gitHubClient.Repository.Forks.GetAll(\"dotnet\", \"try\");"
   ]
  },
  {
   "cell_type": "code",
   "execution_count": 19,
   "metadata": {},
   "outputs": [
    {
     "data": {
      "text/html": [
       "<div id=\"902b6e8b-4c83-4d79-9d49-f45fc2ced5f6\" style=\"width: 900px; height: 500px;\"></div><script type=\"text/javascript\">\r\n",
       "\r\n",
       "var renderPlotly = function() {\r\n",
       "    var xplotRequire = requirejs.config({context:'xplot-2.0.0',paths:{plotly:'https://cdn.plot.ly/plotly-1.49.2.min'}});\r\n",
       "    xplotRequire(['plotly'], function(Plotly) {\r\n",
       "\n",
       "            var data = [{\"type\":\"scattergl\",\"x\":[\"2017-10-04T00:00:00\",\"2017-10-13T00:00:00\",\"2017-11-24T00:00:00\",\"2017-12-04T00:00:00\",\"2018-01-08T00:00:00\",\"2018-01-10T00:00:00\",\"2018-01-25T00:00:00\",\"2018-02-12T00:00:00\",\"2018-02-17T00:00:00\",\"2018-02-23T00:00:00\",\"2018-03-01T00:00:00\",\"2018-03-26T00:00:00\",\"2018-04-15T00:00:00\",\"2018-04-24T00:00:00\",\"2018-06-12T00:00:00\",\"2018-06-16T00:00:00\",\"2018-06-26T00:00:00\",\"2018-07-03T00:00:00\",\"2018-07-08T00:00:00\",\"2018-09-19T00:00:00\",\"2018-11-03T00:00:00\",\"2018-11-06T00:00:00\",\"2018-11-08T00:00:00\",\"2018-11-14T00:00:00\",\"2018-12-03T00:00:00\",\"2018-12-27T00:00:00\",\"2019-01-13T00:00:00\",\"2019-01-14T00:00:00\",\"2019-01-15T00:00:00\",\"2019-01-17T00:00:00\",\"2019-01-18T00:00:00\",\"2019-01-20T00:00:00\",\"2019-01-21T00:00:00\",\"2019-02-01T00:00:00\",\"2019-02-07T00:00:00\",\"2019-02-11T00:00:00\",\"2019-02-14T00:00:00\",\"2019-02-15T00:00:00\",\"2019-03-13T00:00:00\",\"2019-03-15T00:00:00\",\"2019-03-21T00:00:00\",\"2019-03-31T00:00:00\",\"2019-04-03T00:00:00\",\"2019-04-05T00:00:00\",\"2019-04-10T00:00:00\",\"2019-04-16T00:00:00\",\"2019-04-17T00:00:00\",\"2019-04-27T00:00:00\",\"2019-05-07T00:00:00\",\"2019-05-08T00:00:00\",\"2019-05-09T00:00:00\",\"2019-05-11T00:00:00\",\"2019-05-12T00:00:00\",\"2019-05-13T00:00:00\",\"2019-05-15T00:00:00\",\"2019-05-16T00:00:00\",\"2019-05-17T00:00:00\",\"2019-05-18T00:00:00\",\"2019-05-19T00:00:00\",\"2019-05-20T00:00:00\",\"2019-05-21T00:00:00\",\"2019-05-22T00:00:00\",\"2019-05-23T00:00:00\",\"2019-05-24T00:00:00\",\"2019-05-26T00:00:00\",\"2019-05-28T00:00:00\",\"2019-05-29T00:00:00\",\"2019-05-30T00:00:00\",\"2019-05-31T00:00:00\",\"2019-06-01T00:00:00\",\"2019-06-02T00:00:00\",\"2019-06-03T00:00:00\",\"2019-06-04T00:00:00\",\"2019-06-05T00:00:00\",\"2019-06-06T00:00:00\",\"2019-06-07T00:00:00\",\"2019-06-12T00:00:00\",\"2019-06-13T00:00:00\",\"2019-06-15T00:00:00\",\"2019-06-17T00:00:00\",\"2019-06-18T00:00:00\",\"2019-06-20T00:00:00\",\"2019-06-21T00:00:00\",\"2019-06-22T00:00:00\",\"2019-06-26T00:00:00\",\"2019-06-29T00:00:00\",\"2019-07-08T00:00:00\",\"2019-07-09T00:00:00\",\"2019-07-17T00:00:00\",\"2019-07-22T00:00:00\",\"2019-07-29T00:00:00\",\"2019-07-31T00:00:00\",\"2019-08-07T00:00:00\",\"2019-08-09T00:00:00\",\"2019-08-10T00:00:00\",\"2019-08-14T00:00:00\",\"2019-08-16T00:00:00\",\"2019-08-17T00:00:00\",\"2019-08-18T00:00:00\",\"2019-08-20T00:00:00\",\"2019-08-21T00:00:00\",\"2019-08-27T00:00:00\",\"2019-08-30T00:00:00\",\"2019-09-04T00:00:00\",\"2019-09-05T00:00:00\",\"2019-09-06T00:00:00\",\"2019-09-09T00:00:00\",\"2019-09-10T00:00:00\",\"2019-09-16T00:00:00\",\"2019-09-17T00:00:00\",\"2019-09-18T00:00:00\",\"2019-09-20T00:00:00\",\"2019-09-24T00:00:00\",\"2019-09-29T00:00:00\",\"2019-09-30T00:00:00\",\"2019-10-03T00:00:00\",\"2019-10-09T00:00:00\",\"2019-10-15T00:00:00\"],\"y\":[1,1,1,1,1,1,1,2,1,1,2,1,1,1,1,1,1,1,1,1,1,1,1,1,1,1,1,2,2,1,1,1,1,1,1,1,1,1,1,1,1,1,1,2,1,1,1,1,2,2,3,1,2,1,5,5,6,4,1,4,6,9,1,3,3,3,1,3,1,1,1,1,3,2,1,1,1,5,1,1,1,3,3,1,1,1,1,1,2,1,1,1,1,1,1,1,1,1,1,1,1,1,1,1,1,1,1,1,1,1,2,3,1,1,1,1,1,1],\"name\":\"created by month\"},{\"type\":\"scattergl\",\"x\":[\"2017-10-04T00:00:00\",\"2017-10-13T00:00:00\",\"2017-11-24T00:00:00\",\"2017-12-04T00:00:00\",\"2018-01-08T00:00:00\",\"2018-01-10T00:00:00\",\"2018-01-25T00:00:00\",\"2018-02-12T00:00:00\",\"2018-02-17T00:00:00\",\"2018-02-23T00:00:00\",\"2018-03-01T00:00:00\",\"2018-03-26T00:00:00\",\"2018-04-15T00:00:00\",\"2018-04-24T00:00:00\",\"2018-06-12T00:00:00\",\"2018-06-16T00:00:00\",\"2018-06-26T00:00:00\",\"2018-07-03T00:00:00\",\"2018-07-08T00:00:00\",\"2018-09-19T00:00:00\",\"2018-11-03T00:00:00\",\"2018-11-06T00:00:00\",\"2018-11-08T00:00:00\",\"2018-11-14T00:00:00\",\"2018-12-03T00:00:00\",\"2018-12-27T00:00:00\",\"2019-01-13T00:00:00\",\"2019-01-14T00:00:00\",\"2019-01-15T00:00:00\",\"2019-01-17T00:00:00\",\"2019-01-18T00:00:00\",\"2019-01-20T00:00:00\",\"2019-01-21T00:00:00\",\"2019-02-01T00:00:00\",\"2019-02-07T00:00:00\",\"2019-02-11T00:00:00\",\"2019-02-14T00:00:00\",\"2019-02-15T00:00:00\",\"2019-03-13T00:00:00\",\"2019-03-15T00:00:00\",\"2019-03-21T00:00:00\",\"2019-03-31T00:00:00\",\"2019-04-03T00:00:00\",\"2019-04-05T00:00:00\",\"2019-04-10T00:00:00\",\"2019-04-16T00:00:00\",\"2019-04-17T00:00:00\",\"2019-04-27T00:00:00\",\"2019-05-07T00:00:00\",\"2019-05-08T00:00:00\",\"2019-05-09T00:00:00\",\"2019-05-11T00:00:00\",\"2019-05-12T00:00:00\",\"2019-05-13T00:00:00\",\"2019-05-15T00:00:00\",\"2019-05-16T00:00:00\",\"2019-05-17T00:00:00\",\"2019-05-18T00:00:00\",\"2019-05-19T00:00:00\",\"2019-05-20T00:00:00\",\"2019-05-21T00:00:00\",\"2019-05-22T00:00:00\",\"2019-05-23T00:00:00\",\"2019-05-24T00:00:00\",\"2019-05-26T00:00:00\",\"2019-05-28T00:00:00\",\"2019-05-29T00:00:00\",\"2019-05-30T00:00:00\",\"2019-05-31T00:00:00\",\"2019-06-01T00:00:00\",\"2019-06-02T00:00:00\",\"2019-06-03T00:00:00\",\"2019-06-04T00:00:00\",\"2019-06-05T00:00:00\",\"2019-06-06T00:00:00\",\"2019-06-07T00:00:00\",\"2019-06-12T00:00:00\",\"2019-06-13T00:00:00\",\"2019-06-15T00:00:00\",\"2019-06-17T00:00:00\",\"2019-06-18T00:00:00\",\"2019-06-20T00:00:00\",\"2019-06-21T00:00:00\",\"2019-06-22T00:00:00\",\"2019-06-26T00:00:00\",\"2019-06-29T00:00:00\",\"2019-07-08T00:00:00\",\"2019-07-09T00:00:00\",\"2019-07-17T00:00:00\",\"2019-07-22T00:00:00\",\"2019-07-29T00:00:00\",\"2019-07-31T00:00:00\",\"2019-08-07T00:00:00\",\"2019-08-09T00:00:00\",\"2019-08-10T00:00:00\",\"2019-08-14T00:00:00\",\"2019-08-16T00:00:00\",\"2019-08-17T00:00:00\",\"2019-08-18T00:00:00\",\"2019-08-20T00:00:00\",\"2019-08-21T00:00:00\",\"2019-08-27T00:00:00\",\"2019-08-30T00:00:00\",\"2019-09-04T00:00:00\",\"2019-09-05T00:00:00\",\"2019-09-06T00:00:00\",\"2019-09-09T00:00:00\",\"2019-09-10T00:00:00\",\"2019-09-16T00:00:00\",\"2019-09-17T00:00:00\",\"2019-09-18T00:00:00\",\"2019-09-20T00:00:00\",\"2019-09-24T00:00:00\",\"2019-09-29T00:00:00\",\"2019-09-30T00:00:00\",\"2019-10-03T00:00:00\",\"2019-10-09T00:00:00\",\"2019-10-15T00:00:00\"],\"y\":[1,2,3,4,5,6,7,9,10,11,13,14,15,16,17,18,19,20,21,22,23,24,25,26,27,28,29,31,33,34,35,36,37,38,39,40,41,42,43,44,45,46,47,49,50,51,52,53,55,57,60,61,63,64,69,74,80,84,85,89,95,104,105,108,111,114,115,118,119,120,121,122,125,127,128,129,130,135,136,137,138,141,144,145,146,147,148,149,151,152,153,154,155,156,157,158,159,160,161,162,163,164,165,166,167,168,169,170,171,172,174,177,178,179,180,181,182,183],\"name\":\"running total\"},{\"type\":\"scattergl\",\"x\":[\"2017-10-04T00:00:00\",\"2017-10-11T00:00:00\",\"2017-11-22T00:00:00\",\"2017-12-02T00:00:00\",\"2017-12-16T00:00:00\",\"2018-01-25T00:00:00\",\"2018-02-08T00:00:00\",\"2018-02-17T00:00:00\",\"2018-02-21T00:00:00\",\"2018-02-28T00:00:00\",\"2018-03-01T00:00:00\",\"2018-03-26T00:00:00\",\"2018-04-24T00:00:00\",\"2018-06-16T00:00:00\",\"2018-06-30T00:00:00\",\"2018-07-03T00:00:00\",\"2018-07-08T00:00:00\",\"2018-09-19T00:00:00\",\"2018-11-03T00:00:00\",\"2018-11-06T00:00:00\",\"2018-11-08T00:00:00\",\"2018-11-14T00:00:00\",\"2018-12-03T00:00:00\",\"2018-12-27T00:00:00\",\"2019-01-13T00:00:00\",\"2019-01-14T00:00:00\",\"2019-01-15T00:00:00\",\"2019-01-17T00:00:00\",\"2019-01-18T00:00:00\",\"2019-01-21T00:00:00\",\"2019-02-01T00:00:00\",\"2019-02-02T00:00:00\",\"2019-02-07T00:00:00\",\"2019-02-11T00:00:00\",\"2019-02-14T00:00:00\",\"2019-02-15T00:00:00\",\"2019-03-13T00:00:00\",\"2019-03-15T00:00:00\",\"2019-03-21T00:00:00\",\"2019-03-31T00:00:00\",\"2019-04-05T00:00:00\",\"2019-04-09T00:00:00\",\"2019-04-10T00:00:00\",\"2019-04-11T00:00:00\",\"2019-04-16T00:00:00\",\"2019-04-17T00:00:00\",\"2019-04-27T00:00:00\",\"2019-05-07T00:00:00\",\"2019-05-08T00:00:00\",\"2019-05-09T00:00:00\",\"2019-05-11T00:00:00\",\"2019-05-12T00:00:00\",\"2019-05-13T00:00:00\",\"2019-05-15T00:00:00\",\"2019-05-16T00:00:00\",\"2019-05-17T00:00:00\",\"2019-05-18T00:00:00\",\"2019-05-19T00:00:00\",\"2019-05-20T00:00:00\",\"2019-05-21T00:00:00\",\"2019-05-22T00:00:00\",\"2019-05-23T00:00:00\",\"2019-05-24T00:00:00\",\"2019-05-26T00:00:00\",\"2019-05-28T00:00:00\",\"2019-05-29T00:00:00\",\"2019-05-30T00:00:00\",\"2019-05-31T00:00:00\",\"2019-06-01T00:00:00\",\"2019-06-02T00:00:00\",\"2019-06-03T00:00:00\",\"2019-06-04T00:00:00\",\"2019-06-05T00:00:00\",\"2019-06-06T00:00:00\",\"2019-06-07T00:00:00\",\"2019-06-12T00:00:00\",\"2019-06-13T00:00:00\",\"2019-06-15T00:00:00\",\"2019-06-17T00:00:00\",\"2019-06-18T00:00:00\",\"2019-06-20T00:00:00\",\"2019-06-21T00:00:00\",\"2019-06-22T00:00:00\",\"2019-06-26T00:00:00\",\"2019-06-29T00:00:00\",\"2019-07-01T00:00:00\",\"2019-07-08T00:00:00\",\"2019-07-09T00:00:00\",\"2019-07-10T00:00:00\",\"2019-07-17T00:00:00\",\"2019-07-22T00:00:00\",\"2019-07-29T00:00:00\",\"2019-07-31T00:00:00\",\"2019-08-07T00:00:00\",\"2019-08-09T00:00:00\",\"2019-08-10T00:00:00\",\"2019-08-14T00:00:00\",\"2019-08-16T00:00:00\",\"2019-08-17T00:00:00\",\"2019-08-20T00:00:00\",\"2019-08-21T00:00:00\",\"2019-09-04T00:00:00\",\"2019-09-05T00:00:00\",\"2019-09-06T00:00:00\",\"2019-09-09T00:00:00\",\"2019-09-10T00:00:00\",\"2019-09-16T00:00:00\",\"2019-09-17T00:00:00\",\"2019-09-18T00:00:00\",\"2019-09-20T00:00:00\",\"2019-09-24T00:00:00\",\"2019-09-28T00:00:00\",\"2019-09-29T00:00:00\",\"2019-09-30T00:00:00\",\"2019-10-03T00:00:00\",\"2019-10-08T00:00:00\",\"2019-10-09T00:00:00\",\"2019-10-15T00:00:00\",\"2019-10-17T00:00:00\",\"2019-10-18T00:00:00\"],\"y\":[1,1,1,1,2,1,2,1,1,1,1,1,1,1,1,1,1,1,1,1,1,1,1,1,1,2,1,1,1,1,1,1,1,1,1,1,1,1,1,1,1,1,1,1,1,1,1,2,2,3,1,2,1,4,4,6,4,1,4,5,8,1,3,3,3,1,2,1,1,1,1,3,2,1,1,1,4,1,1,2,3,3,1,1,1,1,1,1,2,2,1,1,1,1,1,1,1,2,1,1,1,1,2,1,1,1,2,1,1,3,1,1,2,1,1,1,1,1,1,2],\"name\":\"last update by month\"}];\n",
       "            var layout = {\"title\":\"Fork activity\"};\n",
       "            Plotly.newPlot('902b6e8b-4c83-4d79-9d49-f45fc2ced5f6', data, layout);\n",
       "        });\r\n",
       "};\r\n",
       "if ((typeof(requirejs) !==  typeof(Function)) || (typeof(requirejs.config) !== typeof(Function))) { \r\n",
       "    var script = document.createElement(\"script\"); \r\n",
       "    script.setAttribute(\"src\", \"https://cdnjs.cloudflare.com/ajax/libs/require.js/2.3.6/require.min.js\"); \r\n",
       "    script.onload = function(){\r\n",
       "        renderPlotly();\r\n",
       "    };\r\n",
       "    document.getElementsByTagName(\"head\")[0].appendChild(script); \r\n",
       "}\r\n",
       "else {\r\n",
       "    renderPlotly();\r\n",
       "}\r\n",
       "</script>"
      ]
     },
     "metadata": {},
     "output_type": "display_data"
    }
   ],
   "source": [
    "var forkCreateByMonth = forks.GroupBy(f => new DateTime(f.CreatedAt.Year, f.CreatedAt.Month,  f.CreatedAt.Day) )\n",
    "    .Select(g => new {Date = g.Key, Count = g.Count()}).OrderBy(g => g.Date).ToArray();\n",
    "var forkLastUpdateByMonth = forks.GroupBy(f => new DateTime(f.UpdatedAt.Year, f.UpdatedAt.Month,  f.UpdatedAt.Day) )\n",
    "    .Select(g => new {Date = g.Key, Count = g.Count()}).OrderBy(g => g.Date).ToArray();\n",
    "\n",
    "var total = 0;\n",
    "var forkCountByMonth = forkCreateByMonth.OrderBy(g => g.Date).Select(g => new {g.Date, Count = total += g.Count}).ToArray();\n",
    "\n",
    "var forkCreationSeries = new Graph.Scattergl\n",
    "{\n",
    "    name = \"created by month\",\n",
    "    y = forkCreateByMonth.Select(g => g.Count ).ToArray(),\n",
    "    x = forkCreateByMonth.Select(g => g.Date ).ToArray()\n",
    "};\n",
    "\n",
    "var forkTotalSeries = new Graph.Scattergl\n",
    "{\n",
    "    name = \"running total\",\n",
    "    y = forkCountByMonth.Select(g => g.Count ).ToArray(),\n",
    "    x = forkCountByMonth.Select(g => g.Date ).ToArray()\n",
    "};\n",
    "\n",
    "var forkUpdateSeries = new Graph.Scattergl\n",
    "{\n",
    "    name = \"last update by month\",\n",
    "    y = forkLastUpdateByMonth.Select(g => g.Count ).ToArray(),\n",
    "    x = forkLastUpdateByMonth.Select(g => g.Date ).ToArray()\n",
    "};\n",
    "\n",
    "\n",
    "\n",
    "var chart = Chart.Plot(new[] {forkCreationSeries,forkTotalSeries,forkUpdateSeries});\n",
    "chart.WithTitle(\"Fork activity\");\n",
    "display(chart);"
   ]
  }
 ],
 "metadata": {
  "kernelspec": {
   "display_name": ".NET (C#)",
   "language": "C#",
   "name": ".net-csharp"
  },
  "language_info": {
   "file_extension": ".cs",
   "mimetype": "text/x-csharp",
   "name": "C#",
   "pygments_lexer": "csharp",
   "version": "8.0"
  }
 },
 "nbformat": 4,
 "nbformat_minor": 4
}
